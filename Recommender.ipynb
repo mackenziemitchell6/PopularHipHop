{
 "cells": [
  {
   "cell_type": "code",
   "execution_count": 44,
   "metadata": {},
   "outputs": [],
   "source": [
    "from bs4 import BeautifulSoup as bs\n",
    "import requests\n",
    "import pandas as pd\n",
    "import matplotlib.pyplot as plt\n",
    "import seaborn as sns\n",
    "import spotipy\n",
    "import spotipy.util as util\n",
    "from spotipy.oauth2 import SpotifyClientCredentials\n",
    "import spotipy.oauth2 as oauth2\n",
    "import pickle\n",
    "import sqlite3 \n",
    "conn = sqlite3.connect('hiphop_.db')\n",
    "cur = conn.cursor()"
   ]
  },
  {
   "cell_type": "code",
   "execution_count": 50,
   "metadata": {},
   "outputs": [],
   "source": [
    "market = [ \"AD\", \"AR\", \"AT\", \"AU\", \"BE\", \"BG\", \"BO\", \"BR\", \"CA\", \"CH\", \"CL\", \"CO\", \"CR\", \"CY\", \n",
    "      \"CZ\", \"DE\", \"DK\", \"DO\", \"EC\", \"EE\", \"ES\", \"FI\", \"FR\", \"GB\", \"GR\", \"GT\", \"HK\", \"HN\", \"HU\", \n",
    "      \"ID\", \"IE\", \"IS\", \"IT\", \"JP\", \"LI\", \"LT\", \"LU\", \"LV\", \"MC\", \"MT\", \"MX\", \"MY\", \"NI\", \"NL\", \n",
    "      \"NO\", \"NZ\", \"PA\", \"PE\", \"PH\", \"PL\", \"PT\", \"PY\", \"SE\", \"SG\", \"SK\", \"SV\", \"TH\", \"TR\", \"TW\", \n",
    "      \"US\", \"UY\", \"VN\" ]\n",
    "CLIENT_ID ='d93af13f2f6343c4b7d9e81ba8f29663' \n",
    "CLIENT_SECRET = '96842fd0fdc74a739bd6d82c176b090b'\n",
    "\n",
    "credentials = oauth2.SpotifyClientCredentials(\n",
    "        client_id=CLIENT_ID,\n",
    "        client_secret=CLIENT_SECRET)\n",
    "\n",
    "token = credentials.get_access_token()\n",
    "sp = spotipy.Spotify(auth=token)"
   ]
  },
  {
   "cell_type": "code",
   "execution_count": 51,
   "metadata": {
    "scrolled": true
   },
   "outputs": [
    {
     "name": "stdout",
     "output_type": "stream",
     "text": [
      "Type a few of your favorite artists:kodak black, future, 21 savage\n"
     ]
    }
   ],
   "source": [
    "seeds=input(\"Type a few of your favorite artists:\")"
   ]
  },
  {
   "cell_type": "code",
   "execution_count": 52,
   "metadata": {},
   "outputs": [],
   "source": [
    "seeds=seeds.split(',')"
   ]
  },
  {
   "cell_type": "code",
   "execution_count": 55,
   "metadata": {},
   "outputs": [
    {
     "name": "stdout",
     "output_type": "stream",
     "text": [
      "kodak black\n",
      " future\n",
      " 21 savage\n"
     ]
    }
   ],
   "source": [
    "seed_ids=[]\n",
    "for seed in seeds:\n",
    "    seed_ids.append(sp.search(q='artist: '+ seed, type='artist')['artists']['items'][0]['id'])\n",
    "#     print(sp.search(q='artist: '+ seed, type='artist')['artists']['items'][0]['id'])\n",
    "    print(seed)"
   ]
  },
  {
   "cell_type": "code",
   "execution_count": 56,
   "metadata": {},
   "outputs": [
    {
     "data": {
      "text/plain": [
       "['46SHBwWsqBkxI7EeeBEQG7', '1RyvyyTE3xzB2ZywiAwp0i', '1URnnhqYAYcrqrcwql10ft']"
      ]
     },
     "execution_count": 56,
     "metadata": {},
     "output_type": "execute_result"
    }
   ],
   "source": [
    "seed_ids"
   ]
  },
  {
   "cell_type": "code",
   "execution_count": 57,
   "metadata": {},
   "outputs": [],
   "source": [
    "recs=sp.recommendations(seed_artists=seed_ids)"
   ]
  },
  {
   "cell_type": "code",
   "execution_count": 58,
   "metadata": {
    "scrolled": false
   },
   "outputs": [
    {
     "data": {
      "text/plain": [
       "{'external_urls': {'spotify': 'https://open.spotify.com/artist/1RyvyyTE3xzB2ZywiAwp0i'},\n",
       " 'href': 'https://api.spotify.com/v1/artists/1RyvyyTE3xzB2ZywiAwp0i',\n",
       " 'id': '1RyvyyTE3xzB2ZywiAwp0i',\n",
       " 'name': 'Future',\n",
       " 'type': 'artist',\n",
       " 'uri': 'spotify:artist:1RyvyyTE3xzB2ZywiAwp0i'}"
      ]
     },
     "execution_count": 58,
     "metadata": {},
     "output_type": "execute_result"
    }
   ],
   "source": [
    "recs['tracks'][9]['artists'][0]"
   ]
  },
  {
   "cell_type": "code",
   "execution_count": 59,
   "metadata": {},
   "outputs": [
    {
     "name": "stdout",
     "output_type": "stream",
     "text": [
      "big sean\n",
      "e-40\n",
      "21 savage\n",
      "future\n",
      "nav\n",
      "lil uzi vert\n",
      "sheck wes\n",
      "rihanna\n",
      "ynw melly\n",
      "quavo\n",
      "lil baby\n",
      "quality control\n",
      "lil yachty\n",
      "smokepurpp\n",
      "metro boomin\n",
      "mike will made-it\n",
      "rae sremmurd\n",
      "pharrell williams\n",
      "gunna\n",
      "young thug\n",
      "j. cole\n",
      "travis scott\n"
     ]
    }
   ],
   "source": [
    "artists=[]\n",
    "rec_uris=[]\n",
    "for r in recs['tracks']:\n",
    "    for i in r['artists']:\n",
    "        if i['name'].lower() not in seeds and i['name'] not in artists:\n",
    "            if i['id'] not in rec_uris:\n",
    "                print(i['name'].lower())\n",
    "                artists.append(i['name'])\n",
    "                rec_uris.append(i['id'])"
   ]
  },
  {
   "cell_type": "code",
   "execution_count": 60,
   "metadata": {},
   "outputs": [],
   "source": [
    "stop=len(seeds)\n",
    "artists=artists[stop:]"
   ]
  },
  {
   "cell_type": "code",
   "execution_count": 61,
   "metadata": {},
   "outputs": [
    {
     "data": {
      "text/plain": [
       "['Future',\n",
       " 'NAV',\n",
       " 'Lil Uzi Vert',\n",
       " 'Sheck Wes',\n",
       " 'Rihanna',\n",
       " 'YNW Melly',\n",
       " 'Quavo',\n",
       " 'Lil Baby',\n",
       " 'Quality Control',\n",
       " 'Lil Yachty',\n",
       " 'Smokepurpp',\n",
       " 'Metro Boomin',\n",
       " 'Mike WiLL Made-It',\n",
       " 'Rae Sremmurd',\n",
       " 'Pharrell Williams',\n",
       " 'Gunna',\n",
       " 'Young Thug',\n",
       " 'J. Cole',\n",
       " 'Travis Scott']"
      ]
     },
     "execution_count": 61,
     "metadata": {},
     "output_type": "execute_result"
    }
   ],
   "source": [
    "artists"
   ]
  },
  {
   "cell_type": "code",
   "execution_count": null,
   "metadata": {},
   "outputs": [],
   "source": []
  }
 ],
 "metadata": {
  "kernelspec": {
   "display_name": "Python 3",
   "language": "python",
   "name": "python3"
  },
  "language_info": {
   "codemirror_mode": {
    "name": "ipython",
    "version": 3
   },
   "file_extension": ".py",
   "mimetype": "text/x-python",
   "name": "python",
   "nbconvert_exporter": "python",
   "pygments_lexer": "ipython3",
   "version": "3.7.3"
  }
 },
 "nbformat": 4,
 "nbformat_minor": 2
}
