{
 "cells": [
  {
   "cell_type": "code",
   "execution_count": 2,
   "metadata": {},
   "outputs": [],
   "source": [
    "from bs4 import BeautifulSoup as bs\n",
    "import requests\n",
    "import pandas as pd\n",
    "import matplotlib.pyplot as plt\n",
    "import seaborn as sns\n",
    "import spotipy\n",
    "import spotipy.util as util\n",
    "from spotipy.oauth2 import SpotifyClientCredentials\n",
    "import spotipy.oauth2 as oauth2\n",
    "import pickle\n",
    "import sqlite3 \n",
    "conn = sqlite3.connect('hiphop_.db')\n",
    "cur = conn.cursor()"
   ]
  },
  {
   "cell_type": "code",
   "execution_count": 3,
   "metadata": {},
   "outputs": [],
   "source": [
    "market = [ \"AD\", \"AR\", \"AT\", \"AU\", \"BE\", \"BG\", \"BO\", \"BR\", \"CA\", \"CH\", \"CL\", \"CO\", \"CR\", \"CY\", \n",
    "      \"CZ\", \"DE\", \"DK\", \"DO\", \"EC\", \"EE\", \"ES\", \"FI\", \"FR\", \"GB\", \"GR\", \"GT\", \"HK\", \"HN\", \"HU\", \n",
    "      \"ID\", \"IE\", \"IS\", \"IT\", \"JP\", \"LI\", \"LT\", \"LU\", \"LV\", \"MC\", \"MT\", \"MX\", \"MY\", \"NI\", \"NL\", \n",
    "      \"NO\", \"NZ\", \"PA\", \"PE\", \"PH\", \"PL\", \"PT\", \"PY\", \"SE\", \"SG\", \"SK\", \"SV\", \"TH\", \"TR\", \"TW\", \n",
    "      \"US\", \"UY\", \"VN\" ]\n",
    "CLIENT_ID ='d93af13f2f6343c4b7d9e81ba8f29663' \n",
    "CLIENT_SECRET = '96842fd0fdc74a739bd6d82c176b090b'\n",
    "\n",
    "credentials = oauth2.SpotifyClientCredentials(\n",
    "        client_id=CLIENT_ID,\n",
    "        client_secret=CLIENT_SECRET)\n",
    "\n",
    "token = credentials.get_access_token()\n",
    "sp = spotipy.Spotify(auth=token)"
   ]
  },
  {
   "cell_type": "code",
   "execution_count": null,
   "metadata": {
    "scrolled": true
   },
   "outputs": [],
   "source": [
    "seeds=[]\n",
    "i=0\n",
    "while i!='stop':\n",
    "    input(\"Type a few of your favorite artists. Enter 'stop' when done:\")\n",
    "    seeds.append(i)"
   ]
  },
  {
   "cell_type": "code",
   "execution_count": 8,
   "metadata": {},
   "outputs": [],
   "source": [
    "seed_ids=[]\n",
    "for seed in seeds:\n",
    "    seed_ids.append(sp.search(q='artist: '+ seed, type='artist')['artists']['items'][0]['id'])"
   ]
  },
  {
   "cell_type": "code",
   "execution_count": 9,
   "metadata": {},
   "outputs": [],
   "source": [
    "recs=sp.recommendations(seed_artists=seed_ids)"
   ]
  },
  {
   "cell_type": "code",
   "execution_count": 10,
   "metadata": {
    "scrolled": true
   },
   "outputs": [
    {
     "data": {
      "text/plain": [
       "{'external_urls': {'spotify': 'https://open.spotify.com/artist/7wlFDEWiM5OoIAt8RSli8b'},\n",
       " 'href': 'https://api.spotify.com/v1/artists/7wlFDEWiM5OoIAt8RSli8b',\n",
       " 'id': '7wlFDEWiM5OoIAt8RSli8b',\n",
       " 'name': 'YoungBoy Never Broke Again',\n",
       " 'type': 'artist',\n",
       " 'uri': 'spotify:artist:7wlFDEWiM5OoIAt8RSli8b'}"
      ]
     },
     "execution_count": 10,
     "metadata": {},
     "output_type": "execute_result"
    }
   ],
   "source": [
    "recs['tracks'][9]['artists'][0]"
   ]
  },
  {
   "cell_type": "code",
   "execution_count": 14,
   "metadata": {},
   "outputs": [
    {
     "name": "stdout",
     "output_type": "stream",
     "text": [
      "kodak black\n",
      "lil wayne\n",
      "future\n",
      "pnb rock\n",
      "rae sremmurd\n",
      "gucci mane\n",
      "offset\n",
      "ynw melly\n",
      "kanye west\n",
      "quality control\n",
      "lil yachty\n",
      "ty dolla $ign\n",
      "youngboy never broke again\n",
      "metro boomin\n",
      "blocboy jb\n",
      "drake\n",
      "smokepurpp\n",
      "lil pump\n",
      "lil baby\n"
     ]
    }
   ],
   "source": [
    "artists=[]\n",
    "rec_uris=[]\n",
    "for r in recs['tracks']:\n",
    "    for i in r['artists']:\n",
    "        if i['name'].lower() not in seeds and i['name'] not in artists:\n",
    "            if i['id'] not in rec_uris:\n",
    "                print(i['name'].lower())\n",
    "                artists.append(i['name'])\n",
    "                rec_uris.append(i['id'])"
   ]
  },
  {
   "cell_type": "code",
   "execution_count": 15,
   "metadata": {},
   "outputs": [],
   "source": [
    "stop=len(seeds)\n",
    "artists=artists[stop:]"
   ]
  },
  {
   "cell_type": "code",
   "execution_count": 16,
   "metadata": {},
   "outputs": [
    {
     "data": {
      "text/plain": [
       "['Lil Wayne',\n",
       " 'Future',\n",
       " 'PnB Rock',\n",
       " 'Rae Sremmurd',\n",
       " 'Gucci Mane',\n",
       " 'Offset',\n",
       " 'YNW Melly',\n",
       " 'Kanye West',\n",
       " 'Quality Control',\n",
       " 'Lil Yachty',\n",
       " 'Ty Dolla $ign',\n",
       " 'YoungBoy Never Broke Again',\n",
       " 'Metro Boomin',\n",
       " 'BlocBoy JB',\n",
       " 'Drake',\n",
       " 'Smokepurpp',\n",
       " 'Lil Pump',\n",
       " 'Lil Baby']"
      ]
     },
     "execution_count": 16,
     "metadata": {},
     "output_type": "execute_result"
    }
   ],
   "source": [
    "artists"
   ]
  },
  {
   "cell_type": "code",
   "execution_count": null,
   "metadata": {},
   "outputs": [],
   "source": []
  }
 ],
 "metadata": {
  "kernelspec": {
   "display_name": "Python 3",
   "language": "python",
   "name": "python3"
  },
  "language_info": {
   "codemirror_mode": {
    "name": "ipython",
    "version": 3
   },
   "file_extension": ".py",
   "mimetype": "text/x-python",
   "name": "python",
   "nbconvert_exporter": "python",
   "pygments_lexer": "ipython3",
   "version": "3.7.3"
  }
 },
 "nbformat": 4,
 "nbformat_minor": 2
}
