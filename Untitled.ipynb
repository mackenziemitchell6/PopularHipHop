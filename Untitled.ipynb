{
 "cells": [
  {
   "cell_type": "code",
   "execution_count": 1,
   "metadata": {},
   "outputs": [],
   "source": [
    "from bs4 import BeautifulSoup as bs\n",
    "import requests\n",
    "import pandas as pd\n",
    "import matplotlib.pyplot as plt\n",
    "import seaborn as sns\n",
    "import spotipy\n",
    "import spotipy.util as util\n",
    "from spotipy.oauth2 import SpotifyClientCredentials\n",
    "import spotipy.oauth2 as oauth2\n",
    "import pickle\n",
    "import sqlite3 \n",
    "conn = sqlite3.connect('hiphop_.db')\n",
    "cur = conn.cursor()"
   ]
  },
  {
   "cell_type": "code",
   "execution_count": 2,
   "metadata": {},
   "outputs": [],
   "source": [
    "market = [ \"AD\", \"AR\", \"AT\", \"AU\", \"BE\", \"BG\", \"BO\", \"BR\", \"CA\", \"CH\", \"CL\", \"CO\", \"CR\", \"CY\", \n",
    "      \"CZ\", \"DE\", \"DK\", \"DO\", \"EC\", \"EE\", \"ES\", \"FI\", \"FR\", \"GB\", \"GR\", \"GT\", \"HK\", \"HN\", \"HU\", \n",
    "      \"ID\", \"IE\", \"IS\", \"IT\", \"JP\", \"LI\", \"LT\", \"LU\", \"LV\", \"MC\", \"MT\", \"MX\", \"MY\", \"NI\", \"NL\", \n",
    "      \"NO\", \"NZ\", \"PA\", \"PE\", \"PH\", \"PL\", \"PT\", \"PY\", \"SE\", \"SG\", \"SK\", \"SV\", \"TH\", \"TR\", \"TW\", \n",
    "      \"US\", \"UY\", \"VN\" ]\n",
    "CLIENT_ID ='d93af13f2f6343c4b7d9e81ba8f29663' \n",
    "CLIENT_SECRET = '96842fd0fdc74a739bd6d82c176b090b'\n",
    "\n",
    "credentials = oauth2.SpotifyClientCredentials(\n",
    "        client_id=CLIENT_ID,\n",
    "        client_secret=CLIENT_SECRET)\n",
    "\n",
    "token = credentials.get_access_token()\n",
    "sp = spotipy.Spotify(auth=token)"
   ]
  },
  {
   "cell_type": "code",
   "execution_count": 41,
   "metadata": {
    "scrolled": true
   },
   "outputs": [
    {
     "name": "stdout",
     "output_type": "stream",
     "text": [
      "Type a few of your favorite artists:lil tecca, 21 savage, kodak black\n"
     ]
    }
   ],
   "source": [
    "seeds=input(\"Type a few of your favorite artists:\")"
   ]
  },
  {
   "cell_type": "code",
   "execution_count": 42,
   "metadata": {},
   "outputs": [],
   "source": [
    "seeds=seeds.split(',')"
   ]
  },
  {
   "cell_type": "code",
   "execution_count": 43,
   "metadata": {},
   "outputs": [],
   "source": [
    "seed_ids=[]\n",
    "for seed in seeds:\n",
    "    seed_ids.append(sp.search(q='artist: '+ seed, type='artist')['artists']['items'][0]['id'])\n"
   ]
  },
  {
   "cell_type": "code",
   "execution_count": 44,
   "metadata": {},
   "outputs": [],
   "source": [
    "recs=sp.recommendations(seed_artists=seed_ids)"
   ]
  },
  {
   "cell_type": "code",
   "execution_count": 45,
   "metadata": {
    "scrolled": true
   },
   "outputs": [
    {
     "data": {
      "text/plain": [
       "{'external_urls': {'spotify': 'https://open.spotify.com/artist/1RyvyyTE3xzB2ZywiAwp0i'},\n",
       " 'href': 'https://api.spotify.com/v1/artists/1RyvyyTE3xzB2ZywiAwp0i',\n",
       " 'id': '1RyvyyTE3xzB2ZywiAwp0i',\n",
       " 'name': 'Future',\n",
       " 'type': 'artist',\n",
       " 'uri': 'spotify:artist:1RyvyyTE3xzB2ZywiAwp0i'}"
      ]
     },
     "execution_count": 45,
     "metadata": {},
     "output_type": "execute_result"
    }
   ],
   "source": [
    "recs['tracks'][9]['artists'][0]"
   ]
  },
  {
   "cell_type": "code",
   "execution_count": 46,
   "metadata": {},
   "outputs": [
    {
     "name": "stdout",
     "output_type": "stream",
     "text": [
      "?\n"
     ]
    }
   ],
   "source": [
    "if '21 savage'=='21 savage':\n",
    "    print('?')"
   ]
  },
  {
   "cell_type": "code",
   "execution_count": 54,
   "metadata": {},
   "outputs": [
    {
     "name": "stdout",
     "output_type": "stream",
     "text": [
      "kodak black\n",
      "21 savage\n",
      "metro boomin\n",
      "future\n",
      "blueface\n",
      "juice wrld\n",
      "mike will made-it\n",
      "rae sremmurd\n",
      "big sean\n",
      "quavo\n",
      "pharrell williams\n",
      "comethazine\n",
      "ski mask the slump god\n",
      "lil uzi vert\n",
      "dababy\n",
      "travis scott\n"
     ]
    }
   ],
   "source": [
    "artists=[]\n",
    "rec_uris=[]\n",
    "for r in recs['tracks']:\n",
    "    for i in r['artists']:\n",
    "        if i['name'].lower() not in seeds and i['name'] not in artists:\n",
    "            print(i['name'].lower())\n",
    "            artists.append(i['name'])\n",
    "            rec_uris.append(i['id'])"
   ]
  },
  {
   "cell_type": "code",
   "execution_count": 57,
   "metadata": {},
   "outputs": [],
   "source": [
    "# artists=artists[2:]"
   ]
  },
  {
   "cell_type": "code",
   "execution_count": 58,
   "metadata": {},
   "outputs": [
    {
     "data": {
      "text/plain": [
       "['Metro Boomin',\n",
       " 'Future',\n",
       " 'Blueface',\n",
       " 'Juice WRLD',\n",
       " 'Mike WiLL Made-It',\n",
       " 'Rae Sremmurd',\n",
       " 'Big Sean',\n",
       " 'Quavo',\n",
       " 'Pharrell Williams',\n",
       " 'Comethazine',\n",
       " 'Ski Mask The Slump God',\n",
       " 'Lil Uzi Vert',\n",
       " 'DaBaby',\n",
       " 'Travis Scott']"
      ]
     },
     "execution_count": 58,
     "metadata": {},
     "output_type": "execute_result"
    }
   ],
   "source": [
    "artists"
   ]
  },
  {
   "cell_type": "code",
   "execution_count": null,
   "metadata": {},
   "outputs": [],
   "source": []
  }
 ],
 "metadata": {
  "kernelspec": {
   "display_name": "Python 3",
   "language": "python",
   "name": "python3"
  },
  "language_info": {
   "codemirror_mode": {
    "name": "ipython",
    "version": 3
   },
   "file_extension": ".py",
   "mimetype": "text/x-python",
   "name": "python",
   "nbconvert_exporter": "python",
   "pygments_lexer": "ipython3",
   "version": "3.7.3"
  }
 },
 "nbformat": 4,
 "nbformat_minor": 2
}
